{
 "cells": [
  {
   "cell_type": "code",
   "execution_count": 12,
   "id": "4437d2dd-3664-4b23-ad1e-ad2e6346ba2e",
   "metadata": {},
   "outputs": [
    {
     "data": {
      "text/plain": [
       "Class\n",
       "High    7\n",
       "Low     6\n",
       "Name: count, dtype: int64"
      ]
     },
     "execution_count": 12,
     "metadata": {},
     "output_type": "execute_result"
    }
   ],
   "source": [
    "import pandas as pd\n",
    "from sklearn.utils import resample\n",
    "df=pd.DataFrame({\n",
    "    'Age':[22,25,27,28,30,35,40,45,50,55,60,65,70],\n",
    "    'Income':[2000,2500,2700,3200,3500,3800,4000,4200,4300,4500,5000,5500,6000],\n",
    "    'Class':['High','Low','Low','High','High','Low','High','High','Low','Low','High','High','Low']\n",
    "})\n",
    "df['Class'].value_counts()"
   ]
  },
  {
   "cell_type": "code",
   "execution_count": 13,
   "id": "c3f7d0ed-597e-487e-b16b-1b4d9c23c57c",
   "metadata": {},
   "outputs": [],
   "source": [
    "#Seperate majority and minority classes\n",
    "df_high=df[df['Class']=='High']\n",
    "df_low=df[df['Class']=='Low']"
   ]
  },
  {
   "cell_type": "code",
   "execution_count": 6,
   "id": "aeb7a7e8-f102-411a-98d4-cc4bc352e4f1",
   "metadata": {},
   "outputs": [],
   "source": [
    "#Downsample majority class\n",
    "df_high_downsampled=resample(df_high,replace=False,n_samples=len(df_low),random_state=42)"
   ]
  },
  {
   "cell_type": "code",
   "execution_count": 8,
   "id": "d2248a06-59dc-4360-83bc-725bb01d8a1a",
   "metadata": {},
   "outputs": [],
   "source": [
    "#combine downsampled majority with minority class\n",
    "df_balanced=pd.concat([df_high_downsampled,df_low])"
   ]
  },
  {
   "cell_type": "code",
   "execution_count": 9,
   "id": "0ccca25b-2f6f-4db6-9c0e-5203b071b8e0",
   "metadata": {},
   "outputs": [
    {
     "name": "stdout",
     "output_type": "stream",
     "text": [
      "Class\n",
      "High    6\n",
      "Low     6\n",
      "Name: count, dtype: int64\n"
     ]
    }
   ],
   "source": [
    "print(df_balanced['Class'].value_counts())"
   ]
  },
  {
   "cell_type": "code",
   "execution_count": 14,
   "id": "aa720320-d1a2-4438-816d-6c729f5e4089",
   "metadata": {},
   "outputs": [],
   "source": [
    "#Upsample minority class\n",
    "df_low_upsampled=resample(df_low,replace=True,n_samples=len(df_high),random_state=42)"
   ]
  },
  {
   "cell_type": "code",
   "execution_count": 15,
   "id": "4cc59c3e-c49f-4a48-bf27-b4b7a5bab69b",
   "metadata": {},
   "outputs": [
    {
     "name": "stdout",
     "output_type": "stream",
     "text": [
      "Class\n",
      "Low     7\n",
      "High    7\n",
      "Name: count, dtype: int64\n"
     ]
    }
   ],
   "source": [
    "df_balanced=pd.concat([df_low_upsampled,df_high])\n",
    "print(df_balanced['Class'].value_counts())"
   ]
  },
  {
   "cell_type": "code",
   "execution_count": 17,
   "id": "c5550f4f-4dc0-496d-a1e1-dcb91bfd17cf",
   "metadata": {},
   "outputs": [
    {
     "name": "stdout",
     "output_type": "stream",
     "text": [
      "Class\n",
      "Majority    4\n",
      "Minority    4\n",
      "Name: count, dtype: int64\n",
      "Class\n",
      "Minority    9\n",
      "Majority    9\n",
      "Name: count, dtype: int64\n"
     ]
    }
   ],
   "source": [
    "df = pd.DataFrame({\n",
    "    'Age': [22, 25, 27, 28, 30, 35, 40, 45, 50, 55, 60, 65, 70],\n",
    "    'Income': [2000, 2500, 2700, 3200, 3500, 3800, 4000, 4200, 4300, 4500, 5000, 5500, 6000],\n",
    "    'Class': ['Minority', 'Majority', 'Majority', 'Majority', 'Majority', 'Minority', 'Minority', 'Minority', 'Majority',  'Majority', 'Majority', 'Majority', 'Majority']\n",
    "})\n",
    "df['Class'].value_counts()\n",
    "\n",
    "#separate majority and minority classes\n",
    "df_majority = df[df['Class'] == 'Majority']\n",
    "df_minority = df[df['Class'] == 'Minority']\n",
    "\n",
    "#Downsample majority class\n",
    "df_majority_downsampled = resample(df_majority, replace=False, n_samples=len(df_minority), random_state=42)\n",
    "\n",
    "#combine downsampled majority with the minority class\n",
    "df_balanced = pd.concat([df_majority_downsampled, df_minority])\n",
    "print(df_balanced['Class'].value_counts())\n",
    "\n",
    "#Upsample minority class\n",
    "df_minority_upsampled = resample(df_minority, replace=True, n_samples=len(df_majority), random_state=42)\n",
    "\n",
    "#combine lowsampled minority with the majority class\n",
    "df_balanced = pd.concat([df_minority_upsampled, df_majority])\n",
    "print(df_balanced['Class'].value_counts())\n"
   ]
  },
  {
   "cell_type": "code",
   "execution_count": 18,
   "id": "3f213707-44a4-4fef-9fad-6617ac3351e3",
   "metadata": {},
   "outputs": [
    {
     "name": "stdout",
     "output_type": "stream",
     "text": [
      "Defaulting to user installation because normal site-packages is not writeable\n",
      "Requirement already satisfied: imbalanced-learn in c:\\programdata\\anaconda3\\lib\\site-packages (0.12.3)\n",
      "Requirement already satisfied: numpy>=1.17.3 in c:\\programdata\\anaconda3\\lib\\site-packages (from imbalanced-learn) (1.26.4)\n",
      "Requirement already satisfied: scipy>=1.5.0 in c:\\programdata\\anaconda3\\lib\\site-packages (from imbalanced-learn) (1.13.1)\n",
      "Requirement already satisfied: scikit-learn>=1.0.2 in c:\\programdata\\anaconda3\\lib\\site-packages (from imbalanced-learn) (1.5.1)\n",
      "Requirement already satisfied: joblib>=1.1.1 in c:\\programdata\\anaconda3\\lib\\site-packages (from imbalanced-learn) (1.4.2)\n",
      "Requirement already satisfied: threadpoolctl>=2.0.0 in c:\\programdata\\anaconda3\\lib\\site-packages (from imbalanced-learn) (3.5.0)\n",
      "Note: you may need to restart the kernel to use updated packages.\n"
     ]
    }
   ],
   "source": [
    "pip install imbalanced-learn"
   ]
  },
  {
   "cell_type": "markdown",
   "id": "5dc70bd8-3a8a-4136-8850-72c090d08e34",
   "metadata": {},
   "source": [
    "**1.SMOTE(synthetic minority over-sampling techniqe) to generate synthetic samples instead of duplicating existing ones**\n",
    "\n",
    "2.Convert categorical class labels into numeric from for SMOTE to work.\n",
    "\n",
    "3.Apply SMOTE to balance the dataset .\n",
    "\n",
    "4.Convert back to original categorical labels.\n",
    "\n",
    "5.Combine the resampled data into a final balanced dataset."
   ]
  },
  {
   "cell_type": "code",
   "execution_count": 22,
   "id": "09b9534a-91b0-4ec7-8cf8-038ea3d84a87",
   "metadata": {},
   "outputs": [
    {
     "name": "stdout",
     "output_type": "stream",
     "text": [
      "Class\n",
      "1    9\n",
      "0    9\n",
      "Name: count, dtype: int64\n",
      "    Age  Income  Class\n",
      "0    22    2000      1\n",
      "1    25    2500      0\n",
      "2    27    2700      0\n",
      "3    28    3200      0\n",
      "4    30    3500      0\n",
      "5    35    3800      1\n",
      "6    40    4000      1\n",
      "7    45    4200      1\n",
      "8    50    4300      0\n",
      "9    55    4500      0\n",
      "10   60    5000      0\n",
      "11   65    5500      0\n",
      "12   70    6000      0\n",
      "13   40    4031      1\n",
      "14   35    3831      1\n",
      "15   44    4176      1\n",
      "16   35    3826      1\n",
      "17   41    4040      1\n"
     ]
    }
   ],
   "source": [
    "import pandas as pd\n",
    "from imblearn.over_sampling import SMOTE\n",
    "df = pd.DataFrame({\n",
    "    'Age': [22, 25, 27, 28, 30, 35, 40, 45, 50, 55, 60, 65, 70],\n",
    "    'Income': [2000, 2500, 2700, 3200, 3500, 3800, 4000, 4200, 4300, 4500, 5000, 5500, 6000],\n",
    "    'Class': ['Minority', 'Majority', 'Majority', 'Majority', 'Majority', 'Minority', 'Minority', 'Minority', 'Majority',  'Majority', 'Majority', 'Majority', 'Majority']\n",
    "})        \n",
    "df['Class']=df['Class'].map({'Majority':0,'Minority':1})\n",
    "X=df[['Age','Income']]\n",
    "Y=df['Class']\n",
    "smote=SMOTE(sampling_strategy='auto',random_state=42,k_neighbors=3)\n",
    "x_resampled,y_resampled=smote.fit_resample(X,Y)\n",
    "y_resampled,y_resampled.map({0:'Majority',1:'Minority'})\n",
    "df_balanced=pd.concat([pd.DataFrame(x_resampled,columns=['Age','Income']),pd.DataFrame(y_resampled,columns=['Class'])],axis=1)\n",
    "print(df_balanced['Class'].value_counts())\n",
    "print(df_balanced)\n",
    "\n"
   ]
  },
  {
   "cell_type": "code",
   "execution_count": null,
   "id": "9703445a-a7b5-4bac-ac14-b255514ce947",
   "metadata": {},
   "outputs": [],
   "source": []
  }
 ],
 "metadata": {
  "kernelspec": {
   "display_name": "Python 3 (ipykernel)",
   "language": "python",
   "name": "python3"
  },
  "language_info": {
   "codemirror_mode": {
    "name": "ipython",
    "version": 3
   },
   "file_extension": ".py",
   "mimetype": "text/x-python",
   "name": "python",
   "nbconvert_exporter": "python",
   "pygments_lexer": "ipython3",
   "version": "3.12.7"
  }
 },
 "nbformat": 4,
 "nbformat_minor": 5
}
