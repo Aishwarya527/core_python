{
  "metadata": {
    "kernelspec": {
      "name": "python",
      "display_name": "Python (Pyodide)",
      "language": "python"
    },
    "language_info": {
      "codemirror_mode": {
        "name": "python",
        "version": 3
      },
      "file_extension": ".py",
      "mimetype": "text/x-python",
      "name": "python",
      "nbconvert_exporter": "python",
      "pygments_lexer": "ipython3",
      "version": "3.8"
    },
    "colab": {
      "collapsed_sections": [],
      "include_colab_link": true,
      "name": "Pandas Lab Exercise (kaggle automobile dataset).ipynb",
      "provenance": []
    }
  },
  "nbformat_minor": 4,
  "nbformat": 4,
  "cells": [
    {
      "cell_type": "markdown",
      "source": "## Pandas Lab Exercise (Kaggle Automobile Dataset)\n\nWe shall now test your skills in using Pandas package. We will be using the [automobiles Dataset](https://www.kaggle.com/nisargpatel/automobiles/data) from Kaggle. \n\nAnswer each question asked below wrt the automobiles dataset. Load pandas as pd and upload the Automobile.csv file as auto",
      "metadata": {
        "id": "UbGp33eY741p"
      }
    },
    {
      "cell_type": "code",
      "source": "import pandas as pd",
      "metadata": {
        "id": "PBlq1VGW741u",
        "trusted": true
      },
      "outputs": [],
      "execution_count": 3
    },
    {
      "cell_type": "markdown",
      "source": "**Load the Automobile dataset into variable \"auto\"**",
      "metadata": {
        "id": "DaOkloFo741z"
      }
    },
    {
      "cell_type": "code",
      "source": "auto=pd.read_csv(\"Automobile.csv\")\nauto",
      "metadata": {
        "id": "SbgXY9P67410",
        "trusted": true
      },
      "outputs": [
        {
          "execution_count": 8,
          "output_type": "execute_result",
          "data": {
            "text/plain": "     symboling  normalized_losses         make fuel_type aspiration  \\\n0            3                168  alfa-romero       gas        std   \n1            3                168  alfa-romero       gas        std   \n2            1                168  alfa-romero       gas        std   \n3            2                164         audi       gas        std   \n4            2                164         audi       gas        std   \n..         ...                ...          ...       ...        ...   \n196         -1                 95        volvo       gas        std   \n197         -1                 95        volvo       gas      turbo   \n198         -1                 95        volvo       gas        std   \n199         -1                 95        volvo    diesel      turbo   \n200         -1                 95        volvo       gas      turbo   \n\n    number_of_doors   body_style drive_wheels engine_location  wheel_base  \\\n0               two  convertible          rwd           front        88.6   \n1               two  convertible          rwd           front        88.6   \n2               two    hatchback          rwd           front        94.5   \n3              four        sedan          fwd           front        99.8   \n4              four        sedan          4wd           front        99.4   \n..              ...          ...          ...             ...         ...   \n196            four        sedan          rwd           front       109.1   \n197            four        sedan          rwd           front       109.1   \n198            four        sedan          rwd           front       109.1   \n199            four        sedan          rwd           front       109.1   \n200            four        sedan          rwd           front       109.1   \n\n     ...  engine_size  fuel_system  bore  stroke compression_ratio horsepower  \\\n0    ...          130         mpfi  3.47    2.68               9.0        111   \n1    ...          130         mpfi  3.47    2.68               9.0        111   \n2    ...          152         mpfi  2.68    3.47               9.0        154   \n3    ...          109         mpfi  3.19    3.40              10.0        102   \n4    ...          136         mpfi  3.19    3.40               8.0        115   \n..   ...          ...          ...   ...     ...               ...        ...   \n196  ...          141         mpfi  3.78    3.15               9.5        114   \n197  ...          141         mpfi  3.78    3.15               8.7        160   \n198  ...          173         mpfi  3.58    2.87               8.8        134   \n199  ...          145          idi  3.01    3.40              23.0        106   \n200  ...          141         mpfi  3.78    3.15               9.5        114   \n\n     peak_rpm city_mpg  highway_mpg  price  \n0        5000       21           27  13495  \n1        5000       21           27  16500  \n2        5000       19           26  16500  \n3        5500       24           30  13950  \n4        5500       18           22  17450  \n..        ...      ...          ...    ...  \n196      5400       23           28  16845  \n197      5300       19           25  19045  \n198      5500       18           23  21485  \n199      4800       26           27  22470  \n200      5400       19           25  22625  \n\n[201 rows x 26 columns]",
            "text/html": "<div>\n<style scoped>\n    .dataframe tbody tr th:only-of-type {\n        vertical-align: middle;\n    }\n\n    .dataframe tbody tr th {\n        vertical-align: top;\n    }\n\n    .dataframe thead th {\n        text-align: right;\n    }\n</style>\n<table border=\"1\" class=\"dataframe\">\n  <thead>\n    <tr style=\"text-align: right;\">\n      <th></th>\n      <th>symboling</th>\n      <th>normalized_losses</th>\n      <th>make</th>\n      <th>fuel_type</th>\n      <th>aspiration</th>\n      <th>number_of_doors</th>\n      <th>body_style</th>\n      <th>drive_wheels</th>\n      <th>engine_location</th>\n      <th>wheel_base</th>\n      <th>...</th>\n      <th>engine_size</th>\n      <th>fuel_system</th>\n      <th>bore</th>\n      <th>stroke</th>\n      <th>compression_ratio</th>\n      <th>horsepower</th>\n      <th>peak_rpm</th>\n      <th>city_mpg</th>\n      <th>highway_mpg</th>\n      <th>price</th>\n    </tr>\n  </thead>\n  <tbody>\n    <tr>\n      <th>0</th>\n      <td>3</td>\n      <td>168</td>\n      <td>alfa-romero</td>\n      <td>gas</td>\n      <td>std</td>\n      <td>two</td>\n      <td>convertible</td>\n      <td>rwd</td>\n      <td>front</td>\n      <td>88.6</td>\n      <td>...</td>\n      <td>130</td>\n      <td>mpfi</td>\n      <td>3.47</td>\n      <td>2.68</td>\n      <td>9.0</td>\n      <td>111</td>\n      <td>5000</td>\n      <td>21</td>\n      <td>27</td>\n      <td>13495</td>\n    </tr>\n    <tr>\n      <th>1</th>\n      <td>3</td>\n      <td>168</td>\n      <td>alfa-romero</td>\n      <td>gas</td>\n      <td>std</td>\n      <td>two</td>\n      <td>convertible</td>\n      <td>rwd</td>\n      <td>front</td>\n      <td>88.6</td>\n      <td>...</td>\n      <td>130</td>\n      <td>mpfi</td>\n      <td>3.47</td>\n      <td>2.68</td>\n      <td>9.0</td>\n      <td>111</td>\n      <td>5000</td>\n      <td>21</td>\n      <td>27</td>\n      <td>16500</td>\n    </tr>\n    <tr>\n      <th>2</th>\n      <td>1</td>\n      <td>168</td>\n      <td>alfa-romero</td>\n      <td>gas</td>\n      <td>std</td>\n      <td>two</td>\n      <td>hatchback</td>\n      <td>rwd</td>\n      <td>front</td>\n      <td>94.5</td>\n      <td>...</td>\n      <td>152</td>\n      <td>mpfi</td>\n      <td>2.68</td>\n      <td>3.47</td>\n      <td>9.0</td>\n      <td>154</td>\n      <td>5000</td>\n      <td>19</td>\n      <td>26</td>\n      <td>16500</td>\n    </tr>\n    <tr>\n      <th>3</th>\n      <td>2</td>\n      <td>164</td>\n      <td>audi</td>\n      <td>gas</td>\n      <td>std</td>\n      <td>four</td>\n      <td>sedan</td>\n      <td>fwd</td>\n      <td>front</td>\n      <td>99.8</td>\n      <td>...</td>\n      <td>109</td>\n      <td>mpfi</td>\n      <td>3.19</td>\n      <td>3.40</td>\n      <td>10.0</td>\n      <td>102</td>\n      <td>5500</td>\n      <td>24</td>\n      <td>30</td>\n      <td>13950</td>\n    </tr>\n    <tr>\n      <th>4</th>\n      <td>2</td>\n      <td>164</td>\n      <td>audi</td>\n      <td>gas</td>\n      <td>std</td>\n      <td>four</td>\n      <td>sedan</td>\n      <td>4wd</td>\n      <td>front</td>\n      <td>99.4</td>\n      <td>...</td>\n      <td>136</td>\n      <td>mpfi</td>\n      <td>3.19</td>\n      <td>3.40</td>\n      <td>8.0</td>\n      <td>115</td>\n      <td>5500</td>\n      <td>18</td>\n      <td>22</td>\n      <td>17450</td>\n    </tr>\n    <tr>\n      <th>...</th>\n      <td>...</td>\n      <td>...</td>\n      <td>...</td>\n      <td>...</td>\n      <td>...</td>\n      <td>...</td>\n      <td>...</td>\n      <td>...</td>\n      <td>...</td>\n      <td>...</td>\n      <td>...</td>\n      <td>...</td>\n      <td>...</td>\n      <td>...</td>\n      <td>...</td>\n      <td>...</td>\n      <td>...</td>\n      <td>...</td>\n      <td>...</td>\n      <td>...</td>\n      <td>...</td>\n    </tr>\n    <tr>\n      <th>196</th>\n      <td>-1</td>\n      <td>95</td>\n      <td>volvo</td>\n      <td>gas</td>\n      <td>std</td>\n      <td>four</td>\n      <td>sedan</td>\n      <td>rwd</td>\n      <td>front</td>\n      <td>109.1</td>\n      <td>...</td>\n      <td>141</td>\n      <td>mpfi</td>\n      <td>3.78</td>\n      <td>3.15</td>\n      <td>9.5</td>\n      <td>114</td>\n      <td>5400</td>\n      <td>23</td>\n      <td>28</td>\n      <td>16845</td>\n    </tr>\n    <tr>\n      <th>197</th>\n      <td>-1</td>\n      <td>95</td>\n      <td>volvo</td>\n      <td>gas</td>\n      <td>turbo</td>\n      <td>four</td>\n      <td>sedan</td>\n      <td>rwd</td>\n      <td>front</td>\n      <td>109.1</td>\n      <td>...</td>\n      <td>141</td>\n      <td>mpfi</td>\n      <td>3.78</td>\n      <td>3.15</td>\n      <td>8.7</td>\n      <td>160</td>\n      <td>5300</td>\n      <td>19</td>\n      <td>25</td>\n      <td>19045</td>\n    </tr>\n    <tr>\n      <th>198</th>\n      <td>-1</td>\n      <td>95</td>\n      <td>volvo</td>\n      <td>gas</td>\n      <td>std</td>\n      <td>four</td>\n      <td>sedan</td>\n      <td>rwd</td>\n      <td>front</td>\n      <td>109.1</td>\n      <td>...</td>\n      <td>173</td>\n      <td>mpfi</td>\n      <td>3.58</td>\n      <td>2.87</td>\n      <td>8.8</td>\n      <td>134</td>\n      <td>5500</td>\n      <td>18</td>\n      <td>23</td>\n      <td>21485</td>\n    </tr>\n    <tr>\n      <th>199</th>\n      <td>-1</td>\n      <td>95</td>\n      <td>volvo</td>\n      <td>diesel</td>\n      <td>turbo</td>\n      <td>four</td>\n      <td>sedan</td>\n      <td>rwd</td>\n      <td>front</td>\n      <td>109.1</td>\n      <td>...</td>\n      <td>145</td>\n      <td>idi</td>\n      <td>3.01</td>\n      <td>3.40</td>\n      <td>23.0</td>\n      <td>106</td>\n      <td>4800</td>\n      <td>26</td>\n      <td>27</td>\n      <td>22470</td>\n    </tr>\n    <tr>\n      <th>200</th>\n      <td>-1</td>\n      <td>95</td>\n      <td>volvo</td>\n      <td>gas</td>\n      <td>turbo</td>\n      <td>four</td>\n      <td>sedan</td>\n      <td>rwd</td>\n      <td>front</td>\n      <td>109.1</td>\n      <td>...</td>\n      <td>141</td>\n      <td>mpfi</td>\n      <td>3.78</td>\n      <td>3.15</td>\n      <td>9.5</td>\n      <td>114</td>\n      <td>5400</td>\n      <td>19</td>\n      <td>25</td>\n      <td>22625</td>\n    </tr>\n  </tbody>\n</table>\n<p>201 rows × 26 columns</p>\n</div>"
          },
          "metadata": {}
        }
      ],
      "execution_count": 8
    },
    {
      "cell_type": "markdown",
      "source": "**Check the head of the DataFrame.**",
      "metadata": {
        "id": "Ojz2p4tA7412"
      }
    },
    {
      "cell_type": "code",
      "source": "auto.head()",
      "metadata": {
        "colab": {
          "base_uri": "https://localhost:8080/",
          "height": 294
        },
        "id": "SkS94Img7413",
        "outputId": "94929b1c-b6c3-4e3b-e96f-96f32f7dfc3c",
        "trusted": true
      },
      "outputs": [
        {
          "execution_count": 7,
          "output_type": "execute_result",
          "data": {
            "text/plain": "   symboling  normalized_losses         make fuel_type aspiration  \\\n0          3                168  alfa-romero       gas        std   \n1          3                168  alfa-romero       gas        std   \n2          1                168  alfa-romero       gas        std   \n3          2                164         audi       gas        std   \n4          2                164         audi       gas        std   \n\n  number_of_doors   body_style drive_wheels engine_location  wheel_base  ...  \\\n0             two  convertible          rwd           front        88.6  ...   \n1             two  convertible          rwd           front        88.6  ...   \n2             two    hatchback          rwd           front        94.5  ...   \n3            four        sedan          fwd           front        99.8  ...   \n4            four        sedan          4wd           front        99.4  ...   \n\n   engine_size  fuel_system  bore  stroke compression_ratio horsepower  \\\n0          130         mpfi  3.47    2.68               9.0        111   \n1          130         mpfi  3.47    2.68               9.0        111   \n2          152         mpfi  2.68    3.47               9.0        154   \n3          109         mpfi  3.19    3.40              10.0        102   \n4          136         mpfi  3.19    3.40               8.0        115   \n\n   peak_rpm city_mpg  highway_mpg  price  \n0      5000       21           27  13495  \n1      5000       21           27  16500  \n2      5000       19           26  16500  \n3      5500       24           30  13950  \n4      5500       18           22  17450  \n\n[5 rows x 26 columns]",
            "text/html": "<div>\n<style scoped>\n    .dataframe tbody tr th:only-of-type {\n        vertical-align: middle;\n    }\n\n    .dataframe tbody tr th {\n        vertical-align: top;\n    }\n\n    .dataframe thead th {\n        text-align: right;\n    }\n</style>\n<table border=\"1\" class=\"dataframe\">\n  <thead>\n    <tr style=\"text-align: right;\">\n      <th></th>\n      <th>symboling</th>\n      <th>normalized_losses</th>\n      <th>make</th>\n      <th>fuel_type</th>\n      <th>aspiration</th>\n      <th>number_of_doors</th>\n      <th>body_style</th>\n      <th>drive_wheels</th>\n      <th>engine_location</th>\n      <th>wheel_base</th>\n      <th>...</th>\n      <th>engine_size</th>\n      <th>fuel_system</th>\n      <th>bore</th>\n      <th>stroke</th>\n      <th>compression_ratio</th>\n      <th>horsepower</th>\n      <th>peak_rpm</th>\n      <th>city_mpg</th>\n      <th>highway_mpg</th>\n      <th>price</th>\n    </tr>\n  </thead>\n  <tbody>\n    <tr>\n      <th>0</th>\n      <td>3</td>\n      <td>168</td>\n      <td>alfa-romero</td>\n      <td>gas</td>\n      <td>std</td>\n      <td>two</td>\n      <td>convertible</td>\n      <td>rwd</td>\n      <td>front</td>\n      <td>88.6</td>\n      <td>...</td>\n      <td>130</td>\n      <td>mpfi</td>\n      <td>3.47</td>\n      <td>2.68</td>\n      <td>9.0</td>\n      <td>111</td>\n      <td>5000</td>\n      <td>21</td>\n      <td>27</td>\n      <td>13495</td>\n    </tr>\n    <tr>\n      <th>1</th>\n      <td>3</td>\n      <td>168</td>\n      <td>alfa-romero</td>\n      <td>gas</td>\n      <td>std</td>\n      <td>two</td>\n      <td>convertible</td>\n      <td>rwd</td>\n      <td>front</td>\n      <td>88.6</td>\n      <td>...</td>\n      <td>130</td>\n      <td>mpfi</td>\n      <td>3.47</td>\n      <td>2.68</td>\n      <td>9.0</td>\n      <td>111</td>\n      <td>5000</td>\n      <td>21</td>\n      <td>27</td>\n      <td>16500</td>\n    </tr>\n    <tr>\n      <th>2</th>\n      <td>1</td>\n      <td>168</td>\n      <td>alfa-romero</td>\n      <td>gas</td>\n      <td>std</td>\n      <td>two</td>\n      <td>hatchback</td>\n      <td>rwd</td>\n      <td>front</td>\n      <td>94.5</td>\n      <td>...</td>\n      <td>152</td>\n      <td>mpfi</td>\n      <td>2.68</td>\n      <td>3.47</td>\n      <td>9.0</td>\n      <td>154</td>\n      <td>5000</td>\n      <td>19</td>\n      <td>26</td>\n      <td>16500</td>\n    </tr>\n    <tr>\n      <th>3</th>\n      <td>2</td>\n      <td>164</td>\n      <td>audi</td>\n      <td>gas</td>\n      <td>std</td>\n      <td>four</td>\n      <td>sedan</td>\n      <td>fwd</td>\n      <td>front</td>\n      <td>99.8</td>\n      <td>...</td>\n      <td>109</td>\n      <td>mpfi</td>\n      <td>3.19</td>\n      <td>3.40</td>\n      <td>10.0</td>\n      <td>102</td>\n      <td>5500</td>\n      <td>24</td>\n      <td>30</td>\n      <td>13950</td>\n    </tr>\n    <tr>\n      <th>4</th>\n      <td>2</td>\n      <td>164</td>\n      <td>audi</td>\n      <td>gas</td>\n      <td>std</td>\n      <td>four</td>\n      <td>sedan</td>\n      <td>4wd</td>\n      <td>front</td>\n      <td>99.4</td>\n      <td>...</td>\n      <td>136</td>\n      <td>mpfi</td>\n      <td>3.19</td>\n      <td>3.40</td>\n      <td>8.0</td>\n      <td>115</td>\n      <td>5500</td>\n      <td>18</td>\n      <td>22</td>\n      <td>17450</td>\n    </tr>\n  </tbody>\n</table>\n<p>5 rows × 26 columns</p>\n</div>"
          },
          "metadata": {}
        }
      ],
      "execution_count": 7
    },
    {
      "cell_type": "markdown",
      "source": "**How many rows and columns are there?**",
      "metadata": {
        "id": "L1Hzw3tB7416"
      }
    },
    {
      "cell_type": "code",
      "source": "row_count=auto.shape[0]\nrow_count\n",
      "metadata": {
        "colab": {
          "base_uri": "https://localhost:8080/"
        },
        "id": "wVRt3ZKM7416",
        "outputId": "b48da0eb-5a24-45bc-d673-a59a429b0d60",
        "trusted": true
      },
      "outputs": [
        {
          "execution_count": 11,
          "output_type": "execute_result",
          "data": {
            "text/plain": "201"
          },
          "metadata": {}
        }
      ],
      "execution_count": 11
    },
    {
      "cell_type": "code",
      "source": "col_count=auto.shape[1]\ncol_count",
      "metadata": {
        "colab": {
          "base_uri": "https://localhost:8080/"
        },
        "id": "yq-n7WTn83lo",
        "outputId": "9bd07a59-1979-4879-9137-efb21b969d93",
        "trusted": true
      },
      "outputs": [
        {
          "execution_count": 13,
          "output_type": "execute_result",
          "data": {
            "text/plain": "26"
          },
          "metadata": {}
        }
      ],
      "execution_count": 13
    },
    {
      "cell_type": "markdown",
      "source": "**What is the average Price of all cars in the dataset?**",
      "metadata": {
        "id": "ddFGs8707419"
      }
    },
    {
      "cell_type": "code",
      "source": "avg_price= auto['price'].mean()\navg_price",
      "metadata": {
        "colab": {
          "base_uri": "https://localhost:8080/"
        },
        "id": "hl4I6xd-7419",
        "outputId": "49ef1721-b305-4029-d5cb-0952c0ff548a",
        "trusted": true
      },
      "outputs": [
        {
          "execution_count": 28,
          "output_type": "execute_result",
          "data": {
            "text/plain": "np.float64(13207.129353233831)"
          },
          "metadata": {}
        }
      ],
      "execution_count": 28
    },
    {
      "cell_type": "markdown",
      "source": "**Which is the cheapest make and costliest make of car in the lot?**",
      "metadata": {
        "id": "zdJWY8G2742A"
      }
    },
    {
      "cell_type": "code",
      "source": "cheapest_make = auto.loc[auto['price'].idxmin()]['make']\ncheapest_price = auto['price'].min()\nprint(cheapest_make,cheapest_price)",
      "metadata": {
        "colab": {
          "base_uri": "https://localhost:8080/"
        },
        "id": "rC_xmcM7742A",
        "outputId": "2cb6c3d9-8ea0-4031-b528-c0dbf77411ef",
        "trusted": true
      },
      "outputs": [
        {
          "name": "stdout",
          "output_type": "stream",
          "text": "subaru 5118\n"
        }
      ],
      "execution_count": 27
    },
    {
      "cell_type": "code",
      "source": "costliest_make = auto.loc[auto['price'].idxmax()]['make']\ncostliest_price = auto['price'].max()\nprint(costliest_make,costliest_price)",
      "metadata": {
        "colab": {
          "base_uri": "https://localhost:8080/"
        },
        "id": "bxoYL21Y742D",
        "outputId": "b0928a0e-976f-44d8-b294-205ae633a1d9",
        "trusted": true
      },
      "outputs": [
        {
          "name": "stdout",
          "output_type": "stream",
          "text": "mercedes-benz 45400\n"
        }
      ],
      "execution_count": 25
    },
    {
      "cell_type": "markdown",
      "source": "**How many cars have horsepower greater than 100?**",
      "metadata": {
        "id": "xMvmHC-N742F"
      }
    },
    {
      "cell_type": "code",
      "source": "cars_hp = auto[auto['horsepower'] > 100]\ncount_hp = cars_hp.shape[0]\nprint(f\"Count of Horsepower greater than 100 are +>{count_hp}\")\n",
      "metadata": {
        "colab": {
          "base_uri": "https://localhost:8080/"
        },
        "id": "TiVs0ipq742G",
        "outputId": "02f7760f-7464-4def-a586-924e179d811c",
        "trusted": true
      },
      "outputs": [
        {
          "name": "stdout",
          "output_type": "stream",
          "text": "Count of Horsepower greater than 100 are => 90\n"
        }
      ],
      "execution_count": 36
    },
    {
      "cell_type": "markdown",
      "source": "**How many hatchback cars are in the dataset ?**",
      "metadata": {
        "id": "BxCVZJNC742I"
      }
    },
    {
      "cell_type": "code",
      "source": "hatchback_cars=auto[auto['body_style']=='hatchback']\nprint(f\"total  hatchback cars are in the dataset {hatchback_cars.shape[0]}\")",
      "metadata": {
        "colab": {
          "base_uri": "https://localhost:8080/"
        },
        "id": "9LrFtDpF742J",
        "outputId": "df705384-2eb6-4b38-d511-3312cfe8c4e2",
        "trusted": true,
        "scrolled": true,
        "collapsed": true,
        "jupyter": {
          "outputs_hidden": true
        }
      },
      "outputs": [
        {
          "name": "stdout",
          "output_type": "stream",
          "text": "total  hatchback cars are in the dataset 68\n"
        }
      ],
      "execution_count": 47
    },
    {
      "cell_type": "markdown",
      "source": "**What are the 3 most commonly found cars in the dataset?**",
      "metadata": {
        "id": "BRLWunmC742L"
      }
    },
    {
      "cell_type": "code",
      "source": "most_common_makes = auto['make'].value_counts().head(3)\nprint(f\"Top 3 most commonly found car makes:{most_common_makes}\")",
      "metadata": {
        "colab": {
          "base_uri": "https://localhost:8080/"
        },
        "id": "kS4gRLhB742M",
        "outputId": "0d7bb2f6-0ef5-4793-e309-b6953bd6dd67",
        "trusted": true
      },
      "outputs": [
        {
          "name": "stdout",
          "output_type": "stream",
          "text": "Top 3 most commonly found car makes:make\ntoyota    32\nnissan    18\nmazda     17\nName: count, dtype: int64\n"
        }
      ],
      "execution_count": 52
    },
    {
      "cell_type": "markdown",
      "source": "**Someone purchased a car for 7099, what is the make of the car?**",
      "metadata": {
        "id": "soDyFoWf742O"
      }
    },
    {
      "cell_type": "code",
      "source": "purchase_car=auto[auto['price']==7099]['make']\npurchase_car",
      "metadata": {
        "colab": {
          "base_uri": "https://localhost:8080/"
        },
        "id": "X6lrqVpq742O",
        "outputId": "64ce0c5c-4232-4bcf-c93d-38d30aff443d",
        "trusted": true
      },
      "outputs": [
        {
          "execution_count": 53,
          "output_type": "execute_result",
          "data": {
            "text/plain": "87    nissan\nName: make, dtype: object"
          },
          "metadata": {}
        }
      ],
      "execution_count": 53
    },
    {
      "cell_type": "markdown",
      "source": "**Which cars are priced greater than 40000?**",
      "metadata": {
        "id": "Dm97KFVj742T"
      }
    },
    {
      "cell_type": "code",
      "source": "cars_above_40000 = auto[auto['price'] > 40000]\ncars_above_40000_display = cars_above_40000[['make', 'price']]\nprint(cars_above_40000_display)\n",
      "metadata": {
        "colab": {
          "base_uri": "https://localhost:8080/"
        },
        "id": "KDsWpiuy742T",
        "outputId": "0f179fea-9e70-4371-a148-cf420b9d8f2b",
        "trusted": true
      },
      "outputs": [
        {
          "name": "stdout",
          "output_type": "stream",
          "text": "             make  price\n15            bmw  41315\n70  mercedes-benz  40960\n71  mercedes-benz  45400\n"
        }
      ],
      "execution_count": 57
    },
    {
      "cell_type": "markdown",
      "source": "**Which are the cars that are both a sedan and priced less than 7000?**",
      "metadata": {
        "id": "NNEkkEPY742X"
      }
    },
    {
      "cell_type": "code",
      "source": "sedans_under_7000 = auto[(auto['body_style'] == 'sedan') & (auto['price'] < 7000)]\nprint(sedans_under_7000[['make', 'body_style', 'price']])\n",
      "metadata": {
        "colab": {
          "base_uri": "https://localhost:8080/"
        },
        "id": "XQ66ellN742X",
        "outputId": "c2e04298-24cf-40e5-b7ca-e95f9e8b35f3",
        "trusted": true
      },
      "outputs": [
        {
          "name": "stdout",
          "output_type": "stream",
          "text": "           make body_style  price\n19    chevrolet      sedan   6575\n24        dodge      sedan   6692\n42        isuzu      sedan   6785\n50        mazda      sedan   6695\n82   mitsubishi      sedan   6989\n86       nissan      sedan   5499\n88       nissan      sedan   6649\n89       nissan      sedan   6849\n118    plymouth      sedan   6692\n152      toyota      sedan   6938\n"
        }
      ],
      "execution_count": 58
    },
    {
      "cell_type": "markdown",
      "source": " **Count the number of unique values in the `fuel_type` column.**",
      "metadata": {}
    },
    {
      "cell_type": "code",
      "source": "unique_fuel_types = auto['fuel_type'].nunique()\nprint(f\"Number of unique fuel types: {unique_fuel_types},\")",
      "metadata": {
        "trusted": true
      },
      "outputs": [
        {
          "name": "stdout",
          "output_type": "stream",
          "text": "Number of unique fuel types: 2,\n"
        }
      ],
      "execution_count": 61
    },
    {
      "cell_type": "markdown",
      "source": "**List all the cars that have a horsepower between 100 and 200, and display their `make`, `horsepower`, and `price`.**",
      "metadata": {}
    },
    {
      "cell_type": "code",
      "source": "cars_hp_between = auto[(auto['horsepower'] > 100) & (auto['horsepower'] < 200)]\ncars_hp_between_display = cars_hp_between[['make', 'horsepower', 'price']]\nprint(cars_hp_between_display)",
      "metadata": {
        "trusted": true
      },
      "outputs": [
        {
          "name": "stdout",
          "output_type": "stream",
          "text": "            make  horsepower  price\n0    alfa-romero         111  13495\n1    alfa-romero         111  16500\n2    alfa-romero         154  16500\n3           audi         102  13950\n4           audi         115  17450\n..           ...         ...    ...\n196        volvo         114  16845\n197        volvo         160  19045\n198        volvo         134  21485\n199        volvo         106  22470\n200        volvo         114  22625\n\n[85 rows x 3 columns]\n"
        }
      ],
      "execution_count": 64
    },
    {
      "cell_type": "markdown",
      "source": "**Find the average `city_mpg` and `highway_mpg` for each `body_style`.**",
      "metadata": {}
    },
    {
      "cell_type": "code",
      "source": "average_body_style = auto.groupby('body_style')[['city_mpg', 'highway_mpg']].mean()\nprint(average_body_style)\n",
      "metadata": {
        "trusted": true
      },
      "outputs": [
        {
          "name": "stdout",
          "output_type": "stream",
          "text": "              city_mpg  highway_mpg\nbody_style                         \nconvertible  20.500000    26.000000\nhardtop      21.625000    27.250000\nhatchback    26.602941    32.382353\nsedan        25.053191    30.574468\nwagon        24.040000    28.720000\n"
        }
      ],
      "execution_count": 67
    },
    {
      "cell_type": "markdown",
      "source": "**What is the median `price` for each `make`?**",
      "metadata": {}
    },
    {
      "cell_type": "code",
      "source": "median_price = auto.groupby('make')['price'].median()\nprint(median_price)\n",
      "metadata": {
        "trusted": true
      },
      "outputs": [
        {
          "name": "stdout",
          "output_type": "stream",
          "text": "make\nalfa-romero      16500.0\naudi             17580.0\nbmw              22835.0\nchevrolet         6295.0\ndodge             7609.0\nhonda             7295.0\nisuzu             8916.5\njaguar           35550.0\nmazda            10595.0\nmercedes-benz    32892.0\nmercury          16503.0\nmitsubishi        8499.0\nnissan            8124.0\npeugot           16630.0\nplymouth          7609.0\nporsche          33278.0\nrenault           9595.0\nsaab             15275.0\nsubaru            7894.0\ntoyota            9103.0\nvolkswagen        9737.5\nvolvo            18420.0\nName: price, dtype: float64\n"
        }
      ],
      "execution_count": 69
    },
    {
      "cell_type": "markdown",
      "source": "**List all cars that have a `wheel_base` greater than 100 and a `curb_weight` less than 2500.**",
      "metadata": {}
    },
    {
      "cell_type": "code",
      "source": "cars_filtered = auto[(auto['wheel_base'] > 100) & (auto['curb_weight'] < 2500)]\nprint(cars_filtered)\n",
      "metadata": {
        "trusted": true
      },
      "outputs": [
        {
          "name": "stdout",
          "output_type": "stream",
          "text": "     symboling  normalized_losses    make fuel_type aspiration  \\\n9            2                192     bmw       gas        std   \n10           0                192     bmw       gas        std   \n169         -1                 65  toyota       gas        std   \n170         -1                 65  toyota    diesel      turbo   \n171         -1                 65  toyota       gas        std   \n172         -1                 65  toyota       gas        std   \n173         -1                 65  toyota       gas        std   \n\n    number_of_doors body_style drive_wheels engine_location  wheel_base  ...  \\\n9               two      sedan          rwd           front       101.2  ...   \n10             four      sedan          rwd           front       101.2  ...   \n169            four      sedan          fwd           front       102.4  ...   \n170            four      sedan          fwd           front       102.4  ...   \n171            four  hatchback          fwd           front       102.4  ...   \n172            four      sedan          fwd           front       102.4  ...   \n173            four  hatchback          fwd           front       102.4  ...   \n\n     engine_size  fuel_system  bore  stroke compression_ratio horsepower  \\\n9            108         mpfi  3.50    2.80               8.8        101   \n10           108         mpfi  3.50    2.80               8.8        101   \n169          122         mpfi  3.31    3.54               8.7         92   \n170          110          idi  3.27    3.35              22.5         73   \n171          122         mpfi  3.31    3.54               8.7         92   \n172          122         mpfi  3.31    3.54               8.7         92   \n173          122         mpfi  3.31    3.54               8.7         92   \n\n     peak_rpm city_mpg  highway_mpg  price  \n9        5800       23           29  16430  \n10       5800       23           29  16925  \n169      4200       29           34   8948  \n170      4500       30           33  10698  \n171      4200       27           32   9988  \n172      4200       27           32  10898  \n173      4200       27           32  11248  \n\n[7 rows x 26 columns]\n"
        }
      ],
      "execution_count": 70
    },
    {
      "cell_type": "markdown",
      "source": "**Create a new column `price_per_hp` that calculates the price of the car per horsepower.**",
      "metadata": {}
    },
    {
      "cell_type": "code",
      "source": "auto['price_per_hp'] = auto['price'] / auto['horsepower']\nprint(auto[['make', 'price', 'horsepower', 'price_per_hp']].head())\n",
      "metadata": {
        "trusted": true
      },
      "outputs": [
        {
          "name": "stdout",
          "output_type": "stream",
          "text": "          make  price  horsepower  price_per_hp\n0  alfa-romero  13495         111    121.576577\n1  alfa-romero  16500         111    148.648649\n2  alfa-romero  16500         154    107.142857\n3         audi  13950         102    136.764706\n4         audi  17450         115    151.739130\n"
        }
      ],
      "execution_count": 71
    },
    {
      "cell_type": "markdown",
      "source": "**Count how many cars have a `number_of_doors` as `four`.**",
      "metadata": {}
    },
    {
      "cell_type": "code",
      "source": "cars_with_four_doors = auto[auto['number_of_doors'] == 'four']\ncount_four_doors = cars_with_four_doors.shape[0]\nprint(f\"Number of cars with four doors: {count_four_doors}\")\n",
      "metadata": {
        "trusted": true
      },
      "outputs": [
        {
          "name": "stdout",
          "output_type": "stream",
          "text": "Number of cars with four doors: 114\n"
        }
      ],
      "execution_count": 72
    },
    {
      "cell_type": "markdown",
      "source": "**Find the top 5 cars based on their `highway_mpg` and `price`.**",
      "metadata": {}
    },
    {
      "cell_type": "code",
      "source": "top_5_cars = auto.sort_values(by=['highway_mpg', 'price'], ascending=[False, False])\ntop_5_cars_display = top_5_cars.head(5)\nprint(top_5_cars_display[['make', 'highway_mpg', 'price']])\n",
      "metadata": {
        "trusted": true
      },
      "outputs": [
        {
          "name": "stdout",
          "output_type": "stream",
          "text": "          make  highway_mpg  price\n29       honda           54   6479\n17   chevrolet           53   5151\n87      nissan           50   7099\n155     toyota           47   7788\n156     toyota           47   7738\n"
        }
      ],
      "execution_count": 73
    },
    {
      "cell_type": "markdown",
      "source": "**How many cars have missing values in the `normalized_losses` column?**",
      "metadata": {}
    },
    {
      "cell_type": "code",
      "source": "missing_normalized_losses = auto['normalized_losses'].isnull().sum()\nprint(f\"Number of cars with missing values in 'normalized_losses': {missing_normalized_losses}\")\n",
      "metadata": {
        "trusted": true
      },
      "outputs": [
        {
          "name": "stdout",
          "output_type": "stream",
          "text": "Number of cars with missing values in 'normalized_losses': 0\n"
        }
      ],
      "execution_count": 74
    },
    {
      "cell_type": "markdown",
      "source": "**Create a new column `car_age` that calculates the age of the car based on the `year_of_manufacture` (assume the current year is 2025).**",
      "metadata": {}
    },
    {
      "cell_type": "code",
      "source": "current_year = 2025\nyear_of_manufacture = {\n    'toyota': 1937,\n    'nissan': 1933,\n    'mazda': 1920,\n    'mitsubishi': 1917,\n    'honda': 1948,\n    'volkswagen': 1937,\n    'subaru': 1953,\n    'peugeot': 1896,\n    'volvo': 1927,\n    'dodge': 1914,\n    'mercedes-benz': 1926,\n    'bmw': 1916,\n    'plymouth': 1925,\n    'audi': 1909,\n    'saab': 1947,\n    'porsche': 1931,\n    'jaguar': 1922,\n    'chevrolet': 1911,\n    'alfa-romero': 1910,\n    'isuzu': 1916,\n    'renault': 1899,\n    'mercury': 1939\n}\nauto['year_of_manufacture'] = auto['make'].map(year_of_manufacture)\n\nauto['car_age'] = current_year - auto['year_of_manufacture']\nprint(auto[['year_of_manufacture', 'car_age']])",
      "metadata": {
        "trusted": true
      },
      "outputs": [
        {
          "name": "stdout",
          "output_type": "stream",
          "text": "     year_of_manufacture  car_age\n0                 1910.0    115.0\n1                 1910.0    115.0\n2                 1910.0    115.0\n3                 1909.0    116.0\n4                 1909.0    116.0\n..                   ...      ...\n196               1927.0     98.0\n197               1927.0     98.0\n198               1927.0     98.0\n199               1927.0     98.0\n200               1927.0     98.0\n\n[201 rows x 2 columns]\n"
        }
      ],
      "execution_count": 81
    },
    {
      "cell_type": "markdown",
      "source": "### The END",
      "metadata": {
        "id": "lUpH8N1Y742a",
        "jp-MarkdownHeadingCollapsed": true
      }
    }
  ]
}