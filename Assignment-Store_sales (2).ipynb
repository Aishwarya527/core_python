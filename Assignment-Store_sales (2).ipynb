{
  "metadata": {
    "kernelspec": {
      "name": "python",
      "display_name": "Python (Pyodide)",
      "language": "python"
    },
    "language_info": {
      "codemirror_mode": {
        "name": "python",
        "version": 3
      },
      "file_extension": ".py",
      "mimetype": "text/x-python",
      "name": "python",
      "nbconvert_exporter": "python",
      "pygments_lexer": "ipython3",
      "version": "3.8"
    }
  },
  "nbformat_minor": 5,
  "nbformat": 4,
  "cells": [
    {
      "id": "d736cf34-e043-4789-91b0-c19887e0143f",
      "cell_type": "markdown",
      "source": "# Assignment on Store_sales dataset\n\n**Load the Dataset**",
      "metadata": {}
    },
    {
      "id": "fd79e268-0bd3-4844-af8d-0b1e2b7ceea6",
      "cell_type": "code",
      "source": "import pandas as pd\nst_data=pd.read_csv(\"store_sales.csv\")\nst_data.head()",
      "metadata": {
        "trusted": true
      },
      "outputs": [
        {
          "execution_count": 3,
          "output_type": "execute_result",
          "data": {
            "text/plain": "  store_id        city  Jan  Feb  Mar  Apr  May  Jun  July  Aug  Sep  Oct  \\\n0      S_1       Texas    8   20   13   21   17   20    24   17   16    9   \n1      S_2  California   12   19   15   15   11   19     7   15   10   11   \n2      S_3  California   16   16   14   19   23    6    13   13   15   14   \n3      S_4       Texas    8   18   13   10   14   14     6    8    8   18   \n4      S_5       Texas   19    5   24    9    5   24    10    5   24   15   \n\n   Nov  Dec  \n0    7    6  \n1   21   19  \n2   24    8  \n3    7   11  \n4    6   13  ",
            "text/html": "<div>\n<style scoped>\n    .dataframe tbody tr th:only-of-type {\n        vertical-align: middle;\n    }\n\n    .dataframe tbody tr th {\n        vertical-align: top;\n    }\n\n    .dataframe thead th {\n        text-align: right;\n    }\n</style>\n<table border=\"1\" class=\"dataframe\">\n  <thead>\n    <tr style=\"text-align: right;\">\n      <th></th>\n      <th>store_id</th>\n      <th>city</th>\n      <th>Jan</th>\n      <th>Feb</th>\n      <th>Mar</th>\n      <th>Apr</th>\n      <th>May</th>\n      <th>Jun</th>\n      <th>July</th>\n      <th>Aug</th>\n      <th>Sep</th>\n      <th>Oct</th>\n      <th>Nov</th>\n      <th>Dec</th>\n    </tr>\n  </thead>\n  <tbody>\n    <tr>\n      <th>0</th>\n      <td>S_1</td>\n      <td>Texas</td>\n      <td>8</td>\n      <td>20</td>\n      <td>13</td>\n      <td>21</td>\n      <td>17</td>\n      <td>20</td>\n      <td>24</td>\n      <td>17</td>\n      <td>16</td>\n      <td>9</td>\n      <td>7</td>\n      <td>6</td>\n    </tr>\n    <tr>\n      <th>1</th>\n      <td>S_2</td>\n      <td>California</td>\n      <td>12</td>\n      <td>19</td>\n      <td>15</td>\n      <td>15</td>\n      <td>11</td>\n      <td>19</td>\n      <td>7</td>\n      <td>15</td>\n      <td>10</td>\n      <td>11</td>\n      <td>21</td>\n      <td>19</td>\n    </tr>\n    <tr>\n      <th>2</th>\n      <td>S_3</td>\n      <td>California</td>\n      <td>16</td>\n      <td>16</td>\n      <td>14</td>\n      <td>19</td>\n      <td>23</td>\n      <td>6</td>\n      <td>13</td>\n      <td>13</td>\n      <td>15</td>\n      <td>14</td>\n      <td>24</td>\n      <td>8</td>\n    </tr>\n    <tr>\n      <th>3</th>\n      <td>S_4</td>\n      <td>Texas</td>\n      <td>8</td>\n      <td>18</td>\n      <td>13</td>\n      <td>10</td>\n      <td>14</td>\n      <td>14</td>\n      <td>6</td>\n      <td>8</td>\n      <td>8</td>\n      <td>18</td>\n      <td>7</td>\n      <td>11</td>\n    </tr>\n    <tr>\n      <th>4</th>\n      <td>S_5</td>\n      <td>Texas</td>\n      <td>19</td>\n      <td>5</td>\n      <td>24</td>\n      <td>9</td>\n      <td>5</td>\n      <td>24</td>\n      <td>10</td>\n      <td>5</td>\n      <td>24</td>\n      <td>15</td>\n      <td>6</td>\n      <td>13</td>\n    </tr>\n  </tbody>\n</table>\n</div>"
          },
          "metadata": {}
        }
      ],
      "execution_count": 3
    },
    {
      "id": "13b8009e-28aa-4c56-8804-a6c417182541",
      "cell_type": "markdown",
      "source": "**Calculate the total sales for each store across all months.**",
      "metadata": {}
    },
    {
      "id": "3f148a00-b0e5-4caf-85d3-3483c4f62697",
      "cell_type": "code",
      "source": "total_sales = st_data.iloc[:, 2:14].sum(axis=1)\nst_data['Total_Sales'] = total_sales\nprint(st_data[['store_id', 'Total_Sales']])\n",
      "metadata": {
        "trusted": true
      },
      "outputs": [
        {
          "name": "stdout",
          "output_type": "stream",
          "text": "   store_id  Total_Sales\n0       S_1          178\n1       S_2          174\n2       S_3          181\n3       S_4          135\n4       S_5          159\n..      ...          ...\n95     S_96          185\n96     S_97          154\n97     S_98          168\n98     S_99          173\n99    S_100          180\n\n[100 rows x 2 columns]\n"
        }
      ],
      "execution_count": 15
    },
    {
      "id": "47673b50-bfea-4eb6-9e50-918e87c7c1ff",
      "cell_type": "markdown",
      "source": "**Find the average sales for each month across all stores**",
      "metadata": {}
    },
    {
      "id": "cfea1028-bd85-4552-ab60-936a13c7d84b",
      "cell_type": "code",
      "source": "avg_sales=st_data.iloc[:,2:14].mean(axis=1)\nst_data['avg_sales'] =avg_sales\nprint(st_data[['store_id', 'avg_sales']])",
      "metadata": {
        "trusted": true
      },
      "outputs": [
        {
          "name": "stdout",
          "output_type": "stream",
          "text": "   store_id  avg_sales\n0       S_1  14.833333\n1       S_2  14.500000\n2       S_3  15.083333\n3       S_4  11.250000\n4       S_5  13.250000\n..      ...        ...\n95     S_96  15.416667\n96     S_97  12.833333\n97     S_98  14.000000\n98     S_99  14.416667\n99    S_100  15.000000\n\n[100 rows x 2 columns]\n"
        }
      ],
      "execution_count": 18
    },
    {
      "id": "6dd912e0-9984-42b8-9bf0-db10a69a300c",
      "cell_type": "markdown",
      "source": "**Identify the store with the highest total sales.**",
      "metadata": {}
    },
    {
      "id": "dca54b78-dbe5-4095-8e14-e1a73c34dff6",
      "cell_type": "code",
      "source": "highest_sales = st_data.loc[st_data['Total_Sales'].idxmax()][['store_id', 'Total_Sales']]\nprint(highest_sales)",
      "metadata": {
        "trusted": true
      },
      "outputs": [
        {
          "name": "stdout",
          "output_type": "stream",
          "text": "store_id       S_62\nTotal_Sales     214\nName: 61, dtype: object\n"
        }
      ],
      "execution_count": 41
    },
    {
      "id": "1c6e048a-7dbe-4975-8126-0ff9d46d0b8d",
      "cell_type": "markdown",
      "source": "**Calculate the total sales for each city.**",
      "metadata": {}
    },
    {
      "id": "98fdf5f3-5721-4353-b34d-713e98c20450",
      "cell_type": "code",
      "source": "total= st_data.groupby('city')['Total_Sales'].sum()\ntotal",
      "metadata": {
        "trusted": true
      },
      "outputs": [
        {
          "execution_count": 62,
          "output_type": "execute_result",
          "data": {
            "text/plain": "city\nArizona       3951\nCalifornia    7522\nTexas         5939\nName: Total_Sales, dtype: int64"
          },
          "metadata": {}
        }
      ],
      "execution_count": 62
    },
    {
      "id": "b9cd0e10-c37e-485a-9b6b-e6a67cd19c7d",
      "cell_type": "markdown",
      "source": "**List stores with total sales greater than 200**",
      "metadata": {}
    },
    {
      "id": "a1134ab7-96fe-416c-8da1-daddad0064e6",
      "cell_type": "code",
      "source": "sales=st_data[st_data['Total_Sales']>200][['store_id', 'Total_Sales']]\nprint(sales)",
      "metadata": {
        "trusted": true
      },
      "outputs": [
        {
          "name": "stdout",
          "output_type": "stream",
          "text": "   store_id  Total_Sales\n37     S_38          207\n39     S_40          204\n50     S_51          210\n61     S_62          214\n69     S_70          206\n72     S_73          213\n77     S_78          211\n85     S_86          214\n86     S_87          203\n92     S_93          204\n"
        }
      ],
      "execution_count": 39
    },
    {
      "id": "00a46208-69b2-4577-9f68-c278af43c557",
      "cell_type": "markdown",
      "source": "**Which month had the highest average sales across all stores?**\n",
      "metadata": {}
    },
    {
      "id": "9b85a613-a4b4-499c-9782-97e585120f52",
      "cell_type": "code",
      "source": "monthly_totals = st_data.loc[:, 'Jan':'Dec'].mean(axis=0)\nprint(monthly_totals)",
      "metadata": {
        "trusted": true
      },
      "outputs": [
        {
          "name": "stdout",
          "output_type": "stream",
          "text": "Jan     14.46\nFeb     15.09\nMar     14.56\nApr     14.57\nMay     13.56\nJun     13.80\nJuly    14.38\nAug     15.81\nSep     14.91\nOct     14.10\nNov     15.31\nDec     13.57\ndtype: float64\n"
        }
      ],
      "execution_count": 49
    },
    {
      "id": "c46bc5fe-5318-45d2-95ca-e7a9eb0c2010",
      "cell_type": "code",
      "source": "month_highest_avg_sales = monthly_totals.idxmax()\nhighest_avg_month = monthly_totals.max()\nprint(month_highest_avg_sales,highest_avg_month)",
      "metadata": {
        "trusted": true
      },
      "outputs": [
        {
          "name": "stdout",
          "output_type": "stream",
          "text": "Aug 15.81\n"
        }
      ],
      "execution_count": 56
    },
    {
      "id": "37455b7e-1c05-45d5-9dd1-454527319264",
      "cell_type": "markdown",
      "source": "**Which city generated the most revenue?**",
      "metadata": {}
    },
    {
      "id": "0ceea861-e5f6-4a86-86f0-788d68a898a5",
      "cell_type": "code",
      "source": "city_high_sales = total.idxmax()\nhighest_sales_value = total.max()\nprint(city_high_sales,highest_sales_value)\n",
      "metadata": {
        "trusted": true
      },
      "outputs": [
        {
          "name": "stdout",
          "output_type": "stream",
          "text": "California 7522\n"
        }
      ],
      "execution_count": 63
    }
  ]
}