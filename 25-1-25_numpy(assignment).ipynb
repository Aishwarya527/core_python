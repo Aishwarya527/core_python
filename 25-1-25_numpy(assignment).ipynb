{
 "cells": [
  {
   "cell_type": "code",
   "execution_count": 17,
   "id": "be04a755-7d08-431f-b126-76ca8f9b0cfc",
   "metadata": {},
   "outputs": [
    {
     "name": "stdout",
     "output_type": "stream",
     "text": [
      "[10 11 12 13 14 15 16 17 18 19 20 21 22 23 24 25 26 27 28 29 30 31 32 33\n",
      " 34 35 36 37 38 39 40 41 42 43 44 45 46 47 48 49 50]\n"
     ]
    }
   ],
   "source": [
    "import numpy as np\n",
    "arr=np.arange(10,51)\n",
    "print(arr)"
   ]
  },
  {
   "cell_type": "code",
   "execution_count": 18,
   "id": "3c70443a-e8f8-40f6-9a61-121162a3cd90",
   "metadata": {},
   "outputs": [
    {
     "data": {
      "text/plain": [
       "array([[0.52269683, 0.93735722, 0.28780825],\n",
       "       [0.32230325, 0.96478467, 0.28670782],\n",
       "       [0.15507008, 0.19805697, 0.69685316]])"
      ]
     },
     "execution_count": 18,
     "metadata": {},
     "output_type": "execute_result"
    }
   ],
   "source": [
    "arr=np.random.random((3,3))\n",
    "arr\n"
   ]
  },
  {
   "cell_type": "code",
   "execution_count": 19,
   "id": "c7e4a136-5c73-4357-848d-45217b432cd8",
   "metadata": {},
   "outputs": [
    {
     "name": "stdout",
     "output_type": "stream",
     "text": [
      "shape: (2, 3)\n",
      "Size: 6\n",
      "data_type: float64\n"
     ]
    }
   ],
   "source": [
    "arr1=np.array([[1,2,3],[4,5,6]])\n",
    "print(\"shape:\",arr1.shape)\n",
    "print(\"Size:\",arr1.size)\n",
    "print(\"data_type:\",arr.dtype)"
   ]
  },
  {
   "cell_type": "code",
   "execution_count": 21,
   "id": "c3f63f90-3030-4f21-afac-de686ca3b572",
   "metadata": {},
   "outputs": [
    {
     "name": "stdout",
     "output_type": "stream",
     "text": [
      "[15 25 35]\n"
     ]
    }
   ],
   "source": [
    "arr=np.array([10,20,30])\n",
    "print(arr+5)"
   ]
  },
  {
   "cell_type": "code",
   "execution_count": 73,
   "id": "ad49c530-6d97-44bb-913b-ac94b0d23f89",
   "metadata": {},
   "outputs": [
    {
     "name": "stdout",
     "output_type": "stream",
     "text": [
      "[[ 1  4  9]\n",
      " [16 25 36]\n",
      " [49 64 81]]\n"
     ]
    }
   ],
   "source": [
    "arr_21=np.array([[1,2,3],[4,5,6],[7,8,9]])\n",
    "arr_22=np.array([[1,2,3],[4,5,6],[7,8,9]])\n",
    "print(arr_21*arr_22)"
   ]
  },
  {
   "cell_type": "code",
   "execution_count": 30,
   "id": "8411a37a-0a21-430c-b476-779427c75f45",
   "metadata": {},
   "outputs": [
    {
     "name": "stdout",
     "output_type": "stream",
     "text": [
      "[[ 1  2  3  4  5]\n",
      " [ 6  7  8  9 10]\n",
      " [11 12 13 14 15]\n",
      " [16 17 18 19 20]\n",
      " [21 22 23 24 25]]\n"
     ]
    }
   ],
   "source": [
    "arr = np.arange(1, 26).reshape(5, 5)\n",
    "print(arr)\n"
   ]
  },
  {
   "cell_type": "code",
   "execution_count": 31,
   "id": "6b114f92-04bf-4dea-b2b8-6ece2d3e4345",
   "metadata": {},
   "outputs": [
    {
     "name": "stdout",
     "output_type": "stream",
     "text": [
      "[1 2 3 4 5]\n"
     ]
    }
   ],
   "source": [
    "first_row = arr[0]\n",
    "print(first_row)"
   ]
  },
  {
   "cell_type": "code",
   "execution_count": 32,
   "id": "911c5cb9-7a6f-4a9b-83f0-38704e96eb3b",
   "metadata": {},
   "outputs": [
    {
     "name": "stdout",
     "output_type": "stream",
     "text": [
      "[ 5 10 15 20 25]\n"
     ]
    }
   ],
   "source": [
    "last_column = arr[:, -1]\n",
    "print(last_column)"
   ]
  },
  {
   "cell_type": "code",
   "execution_count": 38,
   "id": "b7b13880-8922-41a2-8063-bcd02f6cc3bf",
   "metadata": {},
   "outputs": [
    {
     "name": "stdout",
     "output_type": "stream",
     "text": [
      "[[ 1  2]\n",
      " [ 6  7]\n",
      " [11 12]]\n"
     ]
    }
   ],
   "source": [
    "subarray = arr[:3, :2]\n",
    "print(subarray)"
   ]
  },
  {
   "cell_type": "code",
   "execution_count": 45,
   "id": "3e8f8fd7-6a04-4434-a2c7-2c68a9c5aef2",
   "metadata": {},
   "outputs": [
    {
     "name": "stdout",
     "output_type": "stream",
     "text": [
      "[58 18 71 22  9 45 90  9 81 66]\n",
      "Maximum 90\n",
      "Minimum 9\n",
      "Mean 46.9\n",
      "Standard Deviation 29.01878701806814\n"
     ]
    }
   ],
   "source": [
    "arr = np.random.randint(1, 101, 10)\n",
    "print(arr)\n",
    "print(\"Maximum\",arr.max())\n",
    "print(\"Minimum\",arr.min())\n",
    "print(\"Mean\",arr.mean())\n",
    "print(\"Standard Deviation\",arr.std())"
   ]
  },
  {
   "cell_type": "code",
   "execution_count": 54,
   "id": "a20848f4-8459-4440-ae7f-64db6c04164f",
   "metadata": {},
   "outputs": [
    {
     "name": "stdout",
     "output_type": "stream",
     "text": [
      "[[ 1  2  3  4]\n",
      " [ 5  6  7  8]\n",
      " [ 9 10 11 12]]\n"
     ]
    }
   ],
   "source": [
    "arr=np.arange(1,13)\n",
    "print(arr.reshape(3,4))\n"
   ]
  },
  {
   "cell_type": "code",
   "execution_count": 74,
   "id": "bbb8f83b-8bcb-4eb6-b4e2-c6f001121b87",
   "metadata": {},
   "outputs": [
    {
     "name": "stdout",
     "output_type": "stream",
     "text": [
      "[[2. 3. 4.]\n",
      " [2. 3. 4.]\n",
      " [2. 3. 4.]]\n"
     ]
    }
   ],
   "source": [
    "ones=np.ones((3,3))\n",
    "print(ones+(1,2,3))"
   ]
  },
  {
   "cell_type": "code",
   "execution_count": 72,
   "id": "a3dda2f9-03ce-4f99-9279-9eb5a182093f",
   "metadata": {},
   "outputs": [
    {
     "name": "stdout",
     "output_type": "stream",
     "text": [
      "Array: [16 28 29 50 33 10 19 29 13 28]\n",
      "Elements divisible by 5: [50 10]\n"
     ]
    }
   ],
   "source": [
    "arr=np.random.randint(1,51,10)\n",
    "divisible_by_5 = arr[arr % 5 == 0]\n",
    "print(\"Array:\", arr)\n",
    "print(\"Elements divisible by 5:\", divisible_by_5)\n"
   ]
  },
  {
   "cell_type": "code",
   "execution_count": 75,
   "id": "1a02b57b-b105-466e-a547-65edee848c71",
   "metadata": {},
   "outputs": [
    {
     "name": "stdout",
     "output_type": "stream",
     "text": [
      "[[ 30  36  42]\n",
      " [ 66  81  96]\n",
      " [102 126 150]]\n"
     ]
    }
   ],
   "source": [
    "\n",
    "arr_21=np.array([[1,2,3],[4,5,6],[7,8,9]])\n",
    "arr_22=np.array([[1,2,3],[4,5,6],[7,8,9]])\n",
    "print(np.dot(arr_21,arr_22))"
   ]
  },
  {
   "cell_type": "code",
   "execution_count": 82,
   "id": "b5669308-e94d-4118-bbf6-b1242d06b8b1",
   "metadata": {},
   "outputs": [
    {
     "data": {
      "text/plain": [
       "array([[ 1,  2,  3,  4],\n",
       "       [ 5,  6,  7,  8],\n",
       "       [ 9, 10, 11, 12],\n",
       "       [13, 14, 15, 16]])"
      ]
     },
     "execution_count": 82,
     "metadata": {},
     "output_type": "execute_result"
    }
   ],
   "source": [
    "arr = np.arange(1, 17).reshape(4, 4)\n",
    "arr"
   ]
  },
  {
   "cell_type": "code",
   "execution_count": 83,
   "id": "157cb12a-ddc1-4e8d-a566-a617650aba36",
   "metadata": {},
   "outputs": [
    {
     "name": "stdout",
     "output_type": "stream",
     "text": [
      "[ 1  6 11 16]\n"
     ]
    }
   ],
   "source": [
    "diagonal_elements = np.diagonal(arr)\n",
    "print(diagonal_elements)"
   ]
  },
  {
   "cell_type": "code",
   "execution_count": null,
   "id": "f61c9459-93c4-402f-8cc2-8e030c54da16",
   "metadata": {},
   "outputs": [],
   "source": []
  }
 ],
 "metadata": {
  "kernelspec": {
   "display_name": "Python 3 (ipykernel)",
   "language": "python",
   "name": "python3"
  },
  "language_info": {
   "codemirror_mode": {
    "name": "ipython",
    "version": 3
   },
   "file_extension": ".py",
   "mimetype": "text/x-python",
   "name": "python",
   "nbconvert_exporter": "python",
   "pygments_lexer": "ipython3",
   "version": "3.12.7"
  }
 },
 "nbformat": 4,
 "nbformat_minor": 5
}
