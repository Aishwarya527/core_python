{
 "cells": [
  {
   "cell_type": "code",
   "execution_count": 3,
   "id": "330a5f6d-2ae6-432d-95a3-77599c485073",
   "metadata": {},
   "outputs": [],
   "source": [
    "import pandas as pd\n",
    "import numpy as np\n",
    "import matplotlib.pyplot as plt\n",
    "import seaborn as sns\n",
    "from sklearn.model_selection import train_test_split,GridSearchCV,RandomizedSearchCV\n",
    "from sklearn.ensemble import RandomForestClassifier\n",
    "from sklearn.metrics import accuracy_score,classification_report,confusion_matrix\n",
    "from sklearn.datasets import load_iris"
   ]
  },
  {
   "cell_type": "markdown",
   "id": "86cee163-3040-45b3-9a55-157adb98eeb7",
   "metadata": {},
   "source": [
    "### Load dataset"
   ]
  },
  {
   "cell_type": "code",
   "execution_count": 5,
   "id": "21bae111-cb01-4d80-8f2c-07e75e568386",
   "metadata": {},
   "outputs": [],
   "source": [
    "df=load_iris()\n",
    "x=df.data\n",
    "y=df.target"
   ]
  },
  {
   "cell_type": "markdown",
   "id": "6bc00f38-12e7-403d-9d66-7be32257e1f2",
   "metadata": {},
   "source": [
    "### Define Hyperparameter Grid"
   ]
  },
  {
   "cell_type": "code",
   "execution_count": 9,
   "id": "d68df93b-09d9-4da9-9128-3737e4f2c0d8",
   "metadata": {},
   "outputs": [],
   "source": [
    "param_grid={\n",
    "    'n_estimators':[10,50,100,200],\n",
    "    'max_depth':[5,10,20,None],\n",
    "    'min_samples_split':[2,5,10],\n",
    "    'min_samples_leaf':[1,2,4]\n",
    "}\n",
    "#split into training and testing sets(80-20 split)\n",
    "x_train,x_test,y_train,y_test=train_test_split(x,y,test_size=0.2,random_state=42)"
   ]
  },
  {
   "cell_type": "markdown",
   "id": "f964ffa2-8f65-4fcd-9b5b-1189c800b7e0",
   "metadata": {},
   "source": [
    "### Apply Grid Search CV"
   ]
  },
  {
   "cell_type": "code",
   "execution_count": 16,
   "id": "713199a6-0ded-4589-aaa8-4b061e0f6d9c",
   "metadata": {},
   "outputs": [
    {
     "name": "stdout",
     "output_type": "stream",
     "text": [
      "Fitting 5 folds for each of 144 candidates, totalling 720 fits\n",
      "Best Parameters from Grid Search: {'max_depth': 5, 'min_samples_leaf': 2, 'min_samples_split': 5, 'n_estimators': 100}\n"
     ]
    },
    {
     "name": "stderr",
     "output_type": "stream",
     "text": [
      "C:\\ProgramData\\anaconda3\\Lib\\site-packages\\numpy\\ma\\core.py:2820: RuntimeWarning: invalid value encountered in cast\n",
      "  _data = np.array(data, dtype=dtype, copy=copy,\n"
     ]
    }
   ],
   "source": [
    "#Grid Search CV\n",
    "grid_search=GridSearchCV(RandomForestClassifier(),param_grid,cv=5,n_jobs=1,verbose=1)\n",
    "grid_search.fit(x_train,y_train)\n",
    "#Get best parameters\n",
    "print(\"Best Parameters from Grid Search:\",grid_search.best_params_)"
   ]
  },
  {
   "cell_type": "markdown",
   "id": "5f1514ba-ec38-4301-89d2-d13eab42c75f",
   "metadata": {},
   "source": [
    "### Apply Randomized Search CV"
   ]
  },
  {
   "cell_type": "code",
   "execution_count": 17,
   "id": "72275073-ac0b-49ff-90cd-24ca4b1d1947",
   "metadata": {},
   "outputs": [
    {
     "name": "stdout",
     "output_type": "stream",
     "text": [
      "Fitting 5 folds for each of 10 candidates, totalling 50 fits\n",
      "Best paramters from Random Search: {'n_estimators': 50, 'min_samples_split': 10, 'min_samples_leaf': 1, 'max_depth': None}\n"
     ]
    }
   ],
   "source": [
    "random_search=RandomizedSearchCV(RandomForestClassifier(),param_grid,n_iter=10,cv=5,n_jobs=1,verbose=1,random_state=42)\n",
    "random_search.fit(x_train,y_train)\n",
    "print('Best paramters from Random Search:',random_search.best_params_)"
   ]
  },
  {
   "cell_type": "markdown",
   "id": "ee44fd69-e20e-4daf-897f-6550dfaae34b",
   "metadata": {},
   "source": [
    "### Evaluate Model Performance"
   ]
  },
  {
   "cell_type": "code",
   "execution_count": 18,
   "id": "5034f3ce-8825-4c93-8728-954c0d0eea75",
   "metadata": {},
   "outputs": [
    {
     "name": "stdout",
     "output_type": "stream",
     "text": [
      "Grid search Accuracy:1.00\n",
      "Random search Accuracy:1.00\n"
     ]
    }
   ],
   "source": [
    "#Train models with best parameters\n",
    "best_grid_model=grid_search.best_estimator_\n",
    "best_random_model=random_search.best_estimator_\n",
    "#Predictions\n",
    "y_pred_grid=best_grid_model.predict(x_test)\n",
    "y_pred_random=best_random_model.predict(x_test)\n",
    "#Accuracy Score\n",
    "acc_grid=accuracy_score(y_test,y_pred_grid)\n",
    "acc_random=accuracy_score(y_test,y_pred_random)\n",
    "\n",
    "print(f\"Grid search Accuracy:{acc_grid:.2f}\")\n",
    "print(f\"Random search Accuracy:{acc_random:.2f}\")"
   ]
  }
 ],
 "metadata": {
  "kernelspec": {
   "display_name": "Python 3 (ipykernel)",
   "language": "python",
   "name": "python3"
  },
  "language_info": {
   "codemirror_mode": {
    "name": "ipython",
    "version": 3
   },
   "file_extension": ".py",
   "mimetype": "text/x-python",
   "name": "python",
   "nbconvert_exporter": "python",
   "pygments_lexer": "ipython3",
   "version": "3.12.7"
  }
 },
 "nbformat": 4,
 "nbformat_minor": 5
}
